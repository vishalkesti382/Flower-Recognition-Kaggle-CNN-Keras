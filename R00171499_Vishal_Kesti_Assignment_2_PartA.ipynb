{
  "nbformat": 4,
  "nbformat_minor": 0,
  "metadata": {
    "colab": {
      "name": "R00171499_Vishal_Kesti_Assignment_2_PartA.ipynb",
      "version": "0.3.2",
      "provenance": [],
      "collapsed_sections": [],
      "include_colab_link": true
    },
    "kernelspec": {
      "name": "python3",
      "display_name": "Python 3"
    }
  },
  "cells": [
    {
      "cell_type": "markdown",
      "metadata": {
        "id": "view-in-github",
        "colab_type": "text"
      },
      "source": [
        "<a href=\"https://colab.research.google.com/github/vishalkesti382/Flower-Recognition-Kaggle-CNN-Keras/blob/master/R00171499_Vishal_Kesti_Assignment_2_PartA.ipynb\" target=\"_parent\"><img src=\"https://colab.research.google.com/assets/colab-badge.svg\" alt=\"Open In Colab\"/></a>"
      ]
    },
    {
      "cell_type": "code",
      "metadata": {
        "id": "Cca-7CVzrkiO",
        "colab_type": "code",
        "outputId": "87e43617-e397-486c-f815-261a421e526e",
        "colab": {
          "base_uri": "https://localhost:8080/",
          "height": 34
        }
      },
      "source": [
        "# Ignore  the warnings\n",
        "import warnings\n",
        "warnings.filterwarnings('always')\n",
        "warnings.filterwarnings('ignore')\n",
        "\n",
        "# data visualisation and manipulation\n",
        "import numpy as np\n",
        "import pandas as pd\n",
        "import matplotlib.pyplot as plt\n",
        "from matplotlib import style\n",
        "import seaborn as sns\n",
        " \n",
        "#configure\n",
        "# sets matplotlib to inline and displays graphs below the corressponding cell.\n",
        "% matplotlib inline  \n",
        "style.use('fivethirtyeight')\n",
        "sns.set(style='whitegrid',color_codes=True)\n",
        "\n",
        "#model selection\n",
        "from sklearn.model_selection import train_test_split\n",
        "from sklearn.model_selection import KFold\n",
        "from sklearn.metrics import accuracy_score,precision_score,recall_score,confusion_matrix,roc_curve,roc_auc_score\n",
        "from sklearn.model_selection import GridSearchCV\n",
        "from sklearn.preprocessing import LabelEncoder\n",
        "\n",
        "#preprocess.\n",
        "from keras.preprocessing.image import ImageDataGenerator\n",
        "\n",
        "#dl libraraies\n",
        "from keras import backend as K\n",
        "from keras.models import Sequential\n",
        "from keras.layers import Dense\n",
        "from keras.optimizers import Adam,SGD,Adagrad,Adadelta,RMSprop\n",
        "from keras.utils import to_categorical\n",
        "from keras.callbacks import ReduceLROnPlateau\n",
        "\n",
        "# specifically for cnn\n",
        "#from conv.conv import ShallowNet\n",
        "from keras.layers import Dropout, Flatten,Activation\n",
        "from keras.layers import Conv2D, MaxPooling2D, BatchNormalization\n",
        " \n",
        "import tensorflow as tf\n",
        "import random as rn\n",
        "\n",
        "# specifically for manipulating zipped images and getting numpy arrays of pixel values of images.\n",
        "import cv2 \n",
        "import h5py\n",
        "import numpy as np  \n",
        "from tqdm import tqdm\n",
        "import os                   \n",
        "from random import shuffle  \n",
        "from zipfile import ZipFile\n",
        "from PIL import Image\n",
        "\n",
        "#TL pecific modules\n",
        "from keras.applications.vgg16 import VGG16"
      ],
      "execution_count": 1,
      "outputs": [
        {
          "output_type": "stream",
          "text": [
            "Using TensorFlow backend.\n"
          ],
          "name": "stderr"
        }
      ]
    },
    {
      "cell_type": "code",
      "metadata": {
        "id": "PH0hz0DTstOk",
        "colab_type": "code",
        "outputId": "76a7043f-c035-4be0-fed8-3c9614fa3934",
        "colab": {
          "base_uri": "https://localhost:8080/",
          "height": 34
        }
      },
      "source": [
        "from google.colab import drive\n",
        "drive.mount('/content/gdrive')"
      ],
      "execution_count": 0,
      "outputs": [
        {
          "output_type": "stream",
          "text": [
            "Drive already mounted at /content/gdrive; to attempt to forcibly remount, call drive.mount(\"/content/gdrive\", force_remount=True).\n"
          ],
          "name": "stdout"
        }
      ]
    },
    {
      "cell_type": "code",
      "metadata": {
        "id": "ZRZiQBt0tCXw",
        "colab_type": "code",
        "outputId": "595a1011-6fb4-4bb8-d4ed-9faafacf5d54",
        "colab": {
          "base_uri": "https://localhost:8080/",
          "height": 34
        }
      },
      "source": [
        "!ls"
      ],
      "execution_count": 0,
      "outputs": [
        {
          "output_type": "stream",
          "text": [
            "gdrive\tsample_data\n"
          ],
          "name": "stdout"
        }
      ]
    },
    {
      "cell_type": "code",
      "metadata": {
        "id": "u40L421XtfKj",
        "colab_type": "code",
        "colab": {}
      },
      "source": [
        "! cd gdrive/"
      ],
      "execution_count": 0,
      "outputs": []
    },
    {
      "cell_type": "code",
      "metadata": {
        "id": "IvYeEBYOrtbE",
        "colab_type": "code",
        "colab": {}
      },
      "source": [
        "def loadDataH5():\n",
        "  with h5py.File('/content/gdrive/My Drive/data1.h5','r') as hf:\n",
        "    trainX = np.array(hf.get('trainX'))\n",
        "    trainY = np.array(hf.get('trainY'))\n",
        "    valX = np.array(hf.get('valX'))\n",
        "    valY = np.array(hf.get('valY'))\n",
        "    print (trainX.shape,trainY.shape)\n",
        "    print (valX.shape,valY.shape)\n",
        "  return trainX, trainY, valX, valY\n"
      ],
      "execution_count": 0,
      "outputs": []
    },
    {
      "cell_type": "code",
      "metadata": {
        "id": "Eglhj4vnsODC",
        "colab_type": "code",
        "outputId": "909a6a54-e34d-4361-fc95-e5d607b55690",
        "colab": {
          "base_uri": "https://localhost:8080/",
          "height": 51
        }
      },
      "source": [
        "trainX, trainY, testX, testY = loadDataH5()"
      ],
      "execution_count": 3,
      "outputs": [
        {
          "output_type": "stream",
          "text": [
            "(1020, 128, 128, 3) (1020,)\n",
            "(340, 128, 128, 3) (340,)\n"
          ],
          "name": "stdout"
        }
      ]
    },
    {
      "cell_type": "code",
      "metadata": {
        "id": "NXyRfw5tc6v_",
        "colab_type": "code",
        "outputId": "55272ded-cc06-492c-f4d1-0a67f7525749",
        "colab": {
          "base_uri": "https://localhost:8080/",
          "height": 34
        }
      },
      "source": [
        "type(trainX)"
      ],
      "execution_count": 4,
      "outputs": [
        {
          "output_type": "execute_result",
          "data": {
            "text/plain": [
              "numpy.ndarray"
            ]
          },
          "metadata": {
            "tags": []
          },
          "execution_count": 4
        }
      ]
    },
    {
      "cell_type": "code",
      "metadata": {
        "id": "tLC5WJ6jruVa",
        "colab_type": "code",
        "colab": {}
      },
      "source": [
        "# flower17 class names\n",
        "class_names = [\"daffodil\", \"snowdrop\", \"lilyvalley\", \"bluebell\", \"crocus\",\n",
        "\t\t\t   \"iris\", \"tigerlily\", \"tulip\", \"fritillary\", \"sunflower\", \n",
        "\t\t\t   \"daisy\", \"coltsfoot\", \"dandelion\", \"cowslip\", \"buttercup\",\n",
        "\t\t\t   \"windflower\", \"pansy\"]"
      ],
      "execution_count": 0,
      "outputs": []
    },
    {
      "cell_type": "code",
      "metadata": {
        "id": "YUJeUivuEoX2",
        "colab_type": "code",
        "colab": {}
      },
      "source": [
        "np.random.seed(42)\n",
        "rn.seed(42)\n",
        "tf.set_random_seed(42)"
      ],
      "execution_count": 0,
      "outputs": []
    },
    {
      "cell_type": "markdown",
      "metadata": {
        "id": "P_6cQtsyuPqy",
        "colab_type": "text"
      },
      "source": [
        "**PART A**\n",
        "\n",
        "Part A requires you to build a range of convolutional networks for tackling the Flowers dataset problem. It also requires you to explore the impact of data augmentation and investigate an ensemble technique."
      ]
    },
    {
      "cell_type": "code",
      "metadata": {
        "id": "gsQEa5O8GUWY",
        "colab_type": "code",
        "colab": {}
      },
      "source": [
        "#We are going to initialize batch size and the number of epochs which is going\n",
        "# to be used across the code\n",
        "batch_size=128\n",
        "epochs=50"
      ],
      "execution_count": 0,
      "outputs": []
    },
    {
      "cell_type": "markdown",
      "metadata": {
        "id": "PobJ6TtJFbrq",
        "colab_type": "text"
      },
      "source": [
        "**PART A : 1**\n",
        "\n",
        "**Implementing a baseline CNN, which contains just a single convolutional layer and a single pooling layer.**\n",
        "\n"
      ]
    },
    {
      "cell_type": "code",
      "metadata": {
        "colab_type": "code",
        "id": "VCjHH6RevPKv",
        "colab": {}
      },
      "source": [
        "tf.reset_default_graph()"
      ],
      "execution_count": 0,
      "outputs": []
    },
    {
      "cell_type": "code",
      "metadata": {
        "id": "28gGCU6DFXQU",
        "colab_type": "code",
        "colab": {}
      },
      "source": [
        "def singleCNN(width, height, depth, classes):\n",
        "  \n",
        "  # initialize the model along with the input shape to be \"channels last\"\n",
        "  model = tf.keras.Sequential() \n",
        "  inputShape = (height, width, depth)\n",
        "\n",
        "  # define the first (and only) CONV => RELU layer\n",
        "  model.add(tf.keras.layers.Conv2D (64, (3, 3), padding=\"same\", input_shape=inputShape, activation='relu'))\n",
        "\n",
        "  # softmax classifier\n",
        "  model.add(tf.keras.layers.Flatten())\n",
        "  model.add(tf.keras.layers.Dense(classes, activation='softmax'))\n",
        "  \n",
        "  return model"
      ],
      "execution_count": 0,
      "outputs": []
    },
    {
      "cell_type": "code",
      "metadata": {
        "id": "AUmIDv1_F2oo",
        "colab_type": "code",
        "outputId": "36bf4a5b-5e3b-4aab-8d29-26b6a3005ab4",
        "colab": {
          "base_uri": "https://localhost:8080/",
          "height": 2006
        }
      },
      "source": [
        "# initialize the optimizer and model\n",
        "print(\"Compiling model...\")\n",
        "\n",
        "opt = tf.keras.optimizers.SGD(lr=0.01)\n",
        "model = singleCNN(width=128, height=128, depth=3, classes=17)\n",
        "print (model.summary())\n",
        "\n",
        "model.compile(loss=\"sparse_categorical_crossentropy\", optimizer=opt,\n",
        "\tmetrics=[\"accuracy\"])\n",
        "\n",
        "# train the network\n",
        "print(\"Training network...\")\n",
        "H = model.fit(trainX, trainY, validation_data=(testX, testY),\tbatch_size=32, epochs=epochs)"
      ],
      "execution_count": 0,
      "outputs": [
        {
          "output_type": "stream",
          "text": [
            "Compiling model...\n",
            "_________________________________________________________________\n",
            "Layer (type)                 Output Shape              Param #   \n",
            "=================================================================\n",
            "conv2d_1 (Conv2D)            (None, 128, 128, 64)      1792      \n",
            "_________________________________________________________________\n",
            "flatten_1 (Flatten)          (None, 1048576)           0         \n",
            "_________________________________________________________________\n",
            "dense_1 (Dense)              (None, 17)                17825809  \n",
            "=================================================================\n",
            "Total params: 17,827,601\n",
            "Trainable params: 17,827,601\n",
            "Non-trainable params: 0\n",
            "_________________________________________________________________\n",
            "None\n",
            "Training network...\n",
            "Train on 1020 samples, validate on 340 samples\n",
            "Epoch 1/50\n",
            "1020/1020 [==============================] - 40s 39ms/sample - loss: 2.5555 - acc: 0.2088 - val_loss: 2.0053 - val_acc: 0.3559\n",
            "Epoch 2/50\n",
            "1020/1020 [==============================] - 39s 38ms/sample - loss: 1.8656 - acc: 0.3902 - val_loss: 1.8019 - val_acc: 0.4147\n",
            "Epoch 3/50\n",
            "1020/1020 [==============================] - 39s 38ms/sample - loss: 1.5473 - acc: 0.4814 - val_loss: 1.5814 - val_acc: 0.4882\n",
            "Epoch 4/50\n",
            "1020/1020 [==============================] - 38s 37ms/sample - loss: 1.3018 - acc: 0.5912 - val_loss: 1.5332 - val_acc: 0.5029\n",
            "Epoch 5/50\n",
            "1020/1020 [==============================] - 39s 38ms/sample - loss: 1.1062 - acc: 0.6745 - val_loss: 1.5420 - val_acc: 0.5176\n",
            "Epoch 6/50\n",
            "1020/1020 [==============================] - 38s 37ms/sample - loss: 0.9370 - acc: 0.7216 - val_loss: 1.4902 - val_acc: 0.4912\n",
            "Epoch 7/50\n",
            "1020/1020 [==============================] - 38s 37ms/sample - loss: 0.8005 - acc: 0.7755 - val_loss: 1.4056 - val_acc: 0.5441\n",
            "Epoch 8/50\n",
            "1020/1020 [==============================] - 38s 37ms/sample - loss: 0.6551 - acc: 0.8216 - val_loss: 1.3304 - val_acc: 0.5735\n",
            "Epoch 9/50\n",
            "1020/1020 [==============================] - 39s 38ms/sample - loss: 0.5319 - acc: 0.8608 - val_loss: 1.4042 - val_acc: 0.5853\n",
            "Epoch 10/50\n",
            "1020/1020 [==============================] - 38s 38ms/sample - loss: 0.4912 - acc: 0.8853 - val_loss: 1.8395 - val_acc: 0.5000\n",
            "Epoch 11/50\n",
            "1020/1020 [==============================] - 39s 38ms/sample - loss: 0.3798 - acc: 0.9196 - val_loss: 1.4622 - val_acc: 0.5824\n",
            "Epoch 12/50\n",
            "1020/1020 [==============================] - 39s 38ms/sample - loss: 0.2274 - acc: 0.9529 - val_loss: 1.5817 - val_acc: 0.5471\n",
            "Epoch 13/50\n",
            "1020/1020 [==============================] - 41s 40ms/sample - loss: 0.2636 - acc: 0.9471 - val_loss: 1.4362 - val_acc: 0.6059\n",
            "Epoch 14/50\n",
            "1020/1020 [==============================] - 38s 37ms/sample - loss: 0.1513 - acc: 0.9765 - val_loss: 1.4740 - val_acc: 0.5941\n",
            "Epoch 15/50\n",
            "1020/1020 [==============================] - 38s 37ms/sample - loss: 0.0948 - acc: 0.9951 - val_loss: 1.7094 - val_acc: 0.5412\n",
            "Epoch 16/50\n",
            "1020/1020 [==============================] - 37s 36ms/sample - loss: 0.2529 - acc: 0.9569 - val_loss: 1.5368 - val_acc: 0.5765\n",
            "Epoch 17/50\n",
            "1020/1020 [==============================] - 37s 36ms/sample - loss: 0.0641 - acc: 1.0000 - val_loss: 1.5842 - val_acc: 0.5676\n",
            "Epoch 18/50\n",
            "1020/1020 [==============================] - 37s 37ms/sample - loss: 0.0499 - acc: 1.0000 - val_loss: 1.6508 - val_acc: 0.5676\n",
            "Epoch 19/50\n",
            "1020/1020 [==============================] - 38s 37ms/sample - loss: 0.0406 - acc: 1.0000 - val_loss: 1.8037 - val_acc: 0.5500\n",
            "Epoch 20/50\n",
            "1020/1020 [==============================] - 38s 37ms/sample - loss: 0.0358 - acc: 1.0000 - val_loss: 1.7455 - val_acc: 0.5559\n",
            "Epoch 21/50\n",
            "1020/1020 [==============================] - 38s 38ms/sample - loss: 0.0270 - acc: 1.0000 - val_loss: 1.7123 - val_acc: 0.5647\n",
            "Epoch 22/50\n",
            "1020/1020 [==============================] - 38s 38ms/sample - loss: 0.0242 - acc: 1.0000 - val_loss: 1.7643 - val_acc: 0.5794\n",
            "Epoch 23/50\n",
            "1020/1020 [==============================] - 38s 38ms/sample - loss: 0.0207 - acc: 1.0000 - val_loss: 1.8055 - val_acc: 0.5588\n",
            "Epoch 24/50\n",
            "1020/1020 [==============================] - 38s 37ms/sample - loss: 0.0193 - acc: 1.0000 - val_loss: 1.8316 - val_acc: 0.5500\n",
            "Epoch 25/50\n",
            "1020/1020 [==============================] - 38s 37ms/sample - loss: 0.0171 - acc: 1.0000 - val_loss: 1.8439 - val_acc: 0.5676\n",
            "Epoch 26/50\n",
            "1020/1020 [==============================] - 37s 37ms/sample - loss: 0.0153 - acc: 1.0000 - val_loss: 1.8724 - val_acc: 0.5647\n",
            "Epoch 27/50\n",
            "1020/1020 [==============================] - 39s 38ms/sample - loss: 0.0141 - acc: 1.0000 - val_loss: 1.8923 - val_acc: 0.5559\n",
            "Epoch 28/50\n",
            "1020/1020 [==============================] - 39s 38ms/sample - loss: 0.0130 - acc: 1.0000 - val_loss: 1.9070 - val_acc: 0.5500\n",
            "Epoch 29/50\n",
            "1020/1020 [==============================] - 39s 38ms/sample - loss: 0.0121 - acc: 1.0000 - val_loss: 1.9161 - val_acc: 0.5676\n",
            "Epoch 30/50\n",
            "1020/1020 [==============================] - 39s 38ms/sample - loss: 0.0113 - acc: 1.0000 - val_loss: 1.9439 - val_acc: 0.5500\n",
            "Epoch 31/50\n",
            "1020/1020 [==============================] - 38s 38ms/sample - loss: 0.0104 - acc: 1.0000 - val_loss: 1.9767 - val_acc: 0.5412\n",
            "Epoch 32/50\n",
            "1020/1020 [==============================] - 38s 37ms/sample - loss: 0.0099 - acc: 1.0000 - val_loss: 1.9539 - val_acc: 0.5471\n",
            "Epoch 33/50\n",
            "1020/1020 [==============================] - 38s 38ms/sample - loss: 0.0093 - acc: 1.0000 - val_loss: 2.0013 - val_acc: 0.5441\n",
            "Epoch 34/50\n",
            "1020/1020 [==============================] - 37s 37ms/sample - loss: 0.0088 - acc: 1.0000 - val_loss: 2.0038 - val_acc: 0.5382\n",
            "Epoch 35/50\n",
            "1020/1020 [==============================] - 38s 38ms/sample - loss: 0.0084 - acc: 1.0000 - val_loss: 2.0197 - val_acc: 0.5441\n",
            "Epoch 36/50\n",
            "1020/1020 [==============================] - 37s 37ms/sample - loss: 0.0079 - acc: 1.0000 - val_loss: 2.0173 - val_acc: 0.5559\n",
            "Epoch 37/50\n",
            "1020/1020 [==============================] - 38s 37ms/sample - loss: 0.0076 - acc: 1.0000 - val_loss: 2.0413 - val_acc: 0.5441\n",
            "Epoch 38/50\n",
            "1020/1020 [==============================] - 39s 38ms/sample - loss: 0.0072 - acc: 1.0000 - val_loss: 2.0569 - val_acc: 0.5441\n",
            "Epoch 39/50\n",
            "1020/1020 [==============================] - 38s 37ms/sample - loss: 0.0069 - acc: 1.0000 - val_loss: 2.0599 - val_acc: 0.5500\n",
            "Epoch 40/50\n",
            "1020/1020 [==============================] - 38s 37ms/sample - loss: 0.0067 - acc: 1.0000 - val_loss: 2.0689 - val_acc: 0.5412\n",
            "Epoch 41/50\n",
            "1020/1020 [==============================] - 39s 38ms/sample - loss: 0.0063 - acc: 1.0000 - val_loss: 2.0734 - val_acc: 0.5441\n",
            "Epoch 42/50\n",
            "1020/1020 [==============================] - 38s 38ms/sample - loss: 0.0060 - acc: 1.0000 - val_loss: 2.0965 - val_acc: 0.5441\n",
            "Epoch 43/50\n",
            "1020/1020 [==============================] - 37s 37ms/sample - loss: 0.0058 - acc: 1.0000 - val_loss: 2.0945 - val_acc: 0.5588\n",
            "Epoch 44/50\n",
            "1020/1020 [==============================] - 38s 37ms/sample - loss: 0.0056 - acc: 1.0000 - val_loss: 2.1016 - val_acc: 0.5500\n",
            "Epoch 45/50\n",
            "1020/1020 [==============================] - 38s 37ms/sample - loss: 0.0054 - acc: 1.0000 - val_loss: 2.1187 - val_acc: 0.5382\n",
            "Epoch 46/50\n",
            "1020/1020 [==============================] - 39s 38ms/sample - loss: 0.0053 - acc: 1.0000 - val_loss: 2.1225 - val_acc: 0.5412\n",
            "Epoch 47/50\n",
            "1020/1020 [==============================] - 39s 38ms/sample - loss: 0.0050 - acc: 1.0000 - val_loss: 2.1341 - val_acc: 0.5529\n",
            "Epoch 48/50\n",
            "1020/1020 [==============================] - 38s 37ms/sample - loss: 0.0049 - acc: 1.0000 - val_loss: 2.1447 - val_acc: 0.5441\n",
            "Epoch 49/50\n",
            "1020/1020 [==============================] - 39s 38ms/sample - loss: 0.0048 - acc: 1.0000 - val_loss: 2.1503 - val_acc: 0.5441\n",
            "Epoch 50/50\n",
            "1020/1020 [==============================] - 38s 37ms/sample - loss: 0.0046 - acc: 1.0000 - val_loss: 2.1516 - val_acc: 0.5441\n"
          ],
          "name": "stdout"
        }
      ]
    },
    {
      "cell_type": "code",
      "metadata": {
        "id": "o7xoCpkxF6Uq",
        "colab_type": "code",
        "outputId": "68a8feda-d635-4630-9b21-c3c1622a2956",
        "colab": {
          "base_uri": "https://localhost:8080/",
          "height": 318
        }
      },
      "source": [
        "# plot the training loss and accuracy\n",
        "plt.style.use(\"ggplot\")\n",
        "plt.figure()\n",
        "plt.plot(np.arange(0, 60), H.history[\"loss\"], label=\"train_loss\")\n",
        "plt.plot(np.arange(0, 60), H.history[\"val_loss\"], label=\"val_loss\")\n",
        "plt.plot(np.arange(0, 60), H.history[\"acc\"], label=\"train_acc\")\n",
        "plt.plot(np.arange(0, 60), H.history[\"val_acc\"], label=\"val_acc\")\n",
        "plt.title(\"Training Loss and Accuracy\")\n",
        "plt.xlabel(\"Epoch #\")\n",
        "plt.ylabel(\"Loss/Accuracy\")\n",
        "plt.legend()\n",
        "plt.show()\n"
      ],
      "execution_count": 0,
      "outputs": [
        {
          "output_type": "display_data",
          "data": {
            "image/png": "[encoded data removed]",
            "text/plain": [
              "<Figure size 432x288 with 1 Axes>"
            ]
          },
          "metadata": {
            "tags": []
          }
        }
      ]
    },
    {
      "cell_type": "markdown",
      "metadata": {
        "id": "ECMr_F5_A9PL",
        "colab_type": "text"
      },
      "source": [
        "**PART A : 1**\n",
        "\n",
        "**First CNN Variant by adding 2 CNN layers**"
      ]
    },
    {
      "cell_type": "code",
      "metadata": {
        "id": "tbF6zDPdxYXP",
        "colab_type": "code",
        "colab": {}
      },
      "source": [
        "tf.reset_default_graph()"
      ],
      "execution_count": 0,
      "outputs": []
    },
    {
      "cell_type": "code",
      "metadata": {
        "id": "w7GwWzVdF8SC",
        "colab_type": "code",
        "colab": {}
      },
      "source": [
        "def firstCNNVariant(width, height, depth, classes):\n",
        "  \n",
        "  # initialize the model along with the input shape\n",
        "  model1 = Sequential()\n",
        "  inputShape = (height, width, depth)\n",
        "  # first set of CONV => RELU => POOL layers\n",
        "  model1.add(Conv2D(32, (3, 3), padding=\"same\", input_shape=inputShape, activation='relu'))\n",
        "  model1.add(MaxPooling2D(pool_size=(2, 2), strides=(2, 2)))\n",
        "  # second set of CONV => RELU => POOL layers\n",
        "  model1.add(Conv2D(64, (3, 3), padding=\"same\", activation='relu'))\n",
        "  model1.add(MaxPooling2D(pool_size=(2, 2), strides=(2, 2)))\n",
        "  # first (and only) set of FC => RELU layers\n",
        "  model1.add(Flatten())\n",
        "  model1.add(Dense(500, activation='relu'))\n",
        "  # softmaxclassifier\n",
        "  model1.add(Dense(classes, activation='softmax'))\n",
        "     \n",
        "  return model1"
      ],
      "execution_count": 0,
      "outputs": []
    },
    {
      "cell_type": "code",
      "metadata": {
        "id": "zI5ZjBFyxYIX",
        "colab_type": "code",
        "outputId": "83670d63-168b-48be-b278-3e41f956b7ae",
        "colab": {
          "base_uri": "https://localhost:8080/",
          "height": 2213
        }
      },
      "source": [
        "# initialize the optimizer and model\n",
        "from keras import backend as K\n",
        "print(\"Compiling model...\")\n",
        "\n",
        "#opt = tf.keras.optimizers.SGD(lr=0.01)\n",
        "opt = SGD(lr = 0.01)\n",
        "model1 = firstCNNVariant(width=128, height=128, depth=3, classes=17)\n",
        "print (model1.summary())\n",
        "\n",
        "model1.compile(loss=\"sparse_categorical_crossentropy\", optimizer=opt, metrics=[\"accuracy\"])\n",
        "\n",
        "# train the network\n",
        "print(\"Training network...\")\n",
        "H1 = model1.fit(trainX, trainY, validation_data=(testX, testY), batch_size=batch_size, epochs=epochs, verbose=1)"
      ],
      "execution_count": 0,
      "outputs": [
        {
          "output_type": "stream",
          "text": [
            "Compiling model...\n",
            "_________________________________________________________________\n",
            "Layer (type)                 Output Shape              Param #   \n",
            "=================================================================\n",
            "conv2d_3 (Conv2D)            (None, 128, 128, 32)      896       \n",
            "_________________________________________________________________\n",
            "max_pooling2d_3 (MaxPooling2 (None, 64, 64, 32)        0         \n",
            "_________________________________________________________________\n",
            "conv2d_4 (Conv2D)            (None, 64, 64, 64)        18496     \n",
            "_________________________________________________________________\n",
            "max_pooling2d_4 (MaxPooling2 (None, 32, 32, 64)        0         \n",
            "_________________________________________________________________\n",
            "flatten_2 (Flatten)          (None, 65536)             0         \n",
            "_________________________________________________________________\n",
            "dense_3 (Dense)              (None, 500)               32768500  \n",
            "_________________________________________________________________\n",
            "dense_4 (Dense)              (None, 17)                8517      \n",
            "=================================================================\n",
            "Total params: 32,796,409\n",
            "Trainable params: 32,796,409\n",
            "Non-trainable params: 0\n",
            "_________________________________________________________________\n",
            "None\n",
            "Training network...\n",
            "WARNING:tensorflow:From /usr/local/lib/python3.6/dist-packages/tensorflow/python/ops/math_ops.py:3066: to_int32 (from tensorflow.python.ops.math_ops) is deprecated and will be removed in a future version.\n",
            "Instructions for updating:\n",
            "Use tf.cast instead.\n",
            "Train on 1020 samples, validate on 340 samples\n",
            "Epoch 1/50\n",
            "1020/1020 [==============================] - 44s 43ms/step - loss: 2.8124 - acc: 0.0745 - val_loss: 2.7459 - val_acc: 0.1912\n",
            "Epoch 2/50\n",
            "1020/1020 [==============================] - 42s 41ms/step - loss: 2.7247 - acc: 0.1539 - val_loss: 2.6579 - val_acc: 0.2235\n",
            "Epoch 3/50\n",
            "1020/1020 [==============================] - 42s 41ms/step - loss: 2.6231 - acc: 0.2118 - val_loss: 2.5666 - val_acc: 0.2294\n",
            "Epoch 4/50\n",
            "1020/1020 [==============================] - 42s 41ms/step - loss: 2.4997 - acc: 0.2422 - val_loss: 2.4355 - val_acc: 0.2824\n",
            "Epoch 5/50\n",
            "1020/1020 [==============================] - 42s 41ms/step - loss: 2.3456 - acc: 0.2892 - val_loss: 2.2870 - val_acc: 0.2735\n",
            "Epoch 6/50\n",
            "1020/1020 [==============================] - 42s 41ms/step - loss: 2.2040 - acc: 0.2814 - val_loss: 2.2288 - val_acc: 0.2618\n",
            "Epoch 7/50\n",
            "1020/1020 [==============================] - 42s 41ms/step - loss: 2.1337 - acc: 0.3069 - val_loss: 2.1582 - val_acc: 0.2735\n",
            "Epoch 8/50\n",
            "1020/1020 [==============================] - 42s 41ms/step - loss: 2.0404 - acc: 0.3353 - val_loss: 2.1469 - val_acc: 0.2353\n",
            "Epoch 9/50\n",
            "1020/1020 [==============================] - 42s 41ms/step - loss: 1.9732 - acc: 0.3431 - val_loss: 1.9994 - val_acc: 0.3176\n",
            "Epoch 10/50\n",
            "1020/1020 [==============================] - 42s 41ms/step - loss: 1.9153 - acc: 0.3716 - val_loss: 2.2679 - val_acc: 0.2500\n",
            "Epoch 11/50\n",
            "1020/1020 [==============================] - 42s 41ms/step - loss: 1.8842 - acc: 0.4294 - val_loss: 1.9650 - val_acc: 0.3441\n",
            "Epoch 12/50\n",
            "1020/1020 [==============================] - 42s 41ms/step - loss: 1.7424 - acc: 0.4441 - val_loss: 2.0434 - val_acc: 0.3412\n",
            "Epoch 13/50\n",
            "1020/1020 [==============================] - 42s 41ms/step - loss: 1.7318 - acc: 0.4520 - val_loss: 1.8013 - val_acc: 0.4147\n",
            "Epoch 14/50\n",
            "1020/1020 [==============================] - 42s 41ms/step - loss: 1.6342 - acc: 0.4843 - val_loss: 1.7763 - val_acc: 0.4441\n",
            "Epoch 15/50\n",
            "1020/1020 [==============================] - 42s 41ms/step - loss: 1.6087 - acc: 0.4824 - val_loss: 1.8342 - val_acc: 0.3441\n",
            "Epoch 16/50\n",
            "1020/1020 [==============================] - 42s 41ms/step - loss: 1.5829 - acc: 0.4971 - val_loss: 1.7977 - val_acc: 0.4147\n",
            "Epoch 17/50\n",
            "1020/1020 [==============================] - 42s 41ms/step - loss: 1.5091 - acc: 0.5324 - val_loss: 1.6750 - val_acc: 0.4353\n",
            "Epoch 18/50\n",
            "1020/1020 [==============================] - 42s 41ms/step - loss: 1.3898 - acc: 0.5814 - val_loss: 1.7185 - val_acc: 0.4029\n",
            "Epoch 19/50\n",
            "1020/1020 [==============================] - 42s 41ms/step - loss: 1.3833 - acc: 0.5539 - val_loss: 1.7941 - val_acc: 0.4412\n",
            "Epoch 20/50\n",
            "1020/1020 [==============================] - 42s 41ms/step - loss: 1.3274 - acc: 0.5863 - val_loss: 1.6809 - val_acc: 0.4559\n",
            "Epoch 21/50\n",
            "1020/1020 [==============================] - 42s 41ms/step - loss: 1.3482 - acc: 0.5569 - val_loss: 1.7508 - val_acc: 0.4353\n",
            "Epoch 22/50\n",
            "1020/1020 [==============================] - 42s 41ms/step - loss: 1.2444 - acc: 0.6196 - val_loss: 1.5420 - val_acc: 0.5059\n",
            "Epoch 23/50\n",
            "1020/1020 [==============================] - 42s 41ms/step - loss: 1.2147 - acc: 0.6363 - val_loss: 1.6052 - val_acc: 0.4912\n",
            "Epoch 24/50\n",
            "1020/1020 [==============================] - 42s 41ms/step - loss: 1.3359 - acc: 0.5775 - val_loss: 1.5679 - val_acc: 0.5176\n",
            "Epoch 25/50\n",
            "1020/1020 [==============================] - 42s 41ms/step - loss: 1.1384 - acc: 0.6569 - val_loss: 1.6656 - val_acc: 0.4647\n",
            "Epoch 26/50\n",
            "1020/1020 [==============================] - 42s 41ms/step - loss: 1.2281 - acc: 0.6235 - val_loss: 1.6093 - val_acc: 0.4441\n",
            "Epoch 27/50\n",
            "1020/1020 [==============================] - 42s 41ms/step - loss: 1.0788 - acc: 0.6804 - val_loss: 1.5209 - val_acc: 0.4971\n",
            "Epoch 28/50\n",
            "1020/1020 [==============================] - 42s 41ms/step - loss: 1.0027 - acc: 0.7088 - val_loss: 1.6275 - val_acc: 0.4559\n",
            "Epoch 29/50\n",
            "1020/1020 [==============================] - 42s 41ms/step - loss: 1.1159 - acc: 0.6431 - val_loss: 1.6244 - val_acc: 0.4941\n",
            "Epoch 30/50\n",
            "1020/1020 [==============================] - 42s 41ms/step - loss: 1.0214 - acc: 0.6814 - val_loss: 1.5846 - val_acc: 0.4618\n",
            "Epoch 31/50\n",
            "1020/1020 [==============================] - 42s 41ms/step - loss: 0.9208 - acc: 0.7235 - val_loss: 1.9114 - val_acc: 0.4118\n",
            "Epoch 32/50\n",
            "1020/1020 [==============================] - 42s 41ms/step - loss: 1.0445 - acc: 0.6706 - val_loss: 1.5532 - val_acc: 0.4941\n",
            "Epoch 33/50\n",
            "1020/1020 [==============================] - 42s 41ms/step - loss: 0.8926 - acc: 0.7304 - val_loss: 1.4818 - val_acc: 0.5353\n",
            "Epoch 34/50\n",
            "1020/1020 [==============================] - 42s 41ms/step - loss: 0.8898 - acc: 0.7333 - val_loss: 1.6829 - val_acc: 0.5029\n",
            "Epoch 35/50\n",
            "1020/1020 [==============================] - 42s 41ms/step - loss: 0.8871 - acc: 0.7461 - val_loss: 1.8167 - val_acc: 0.4618\n",
            "Epoch 36/50\n",
            "1020/1020 [==============================] - 42s 41ms/step - loss: 0.8859 - acc: 0.7353 - val_loss: 2.0600 - val_acc: 0.3853\n",
            "Epoch 37/50\n",
            "1020/1020 [==============================] - 41s 41ms/step - loss: 0.9021 - acc: 0.7363 - val_loss: 1.9640 - val_acc: 0.4029\n",
            "Epoch 38/50\n",
            "1020/1020 [==============================] - 42s 41ms/step - loss: 0.7571 - acc: 0.7971 - val_loss: 1.4409 - val_acc: 0.5235\n",
            "Epoch 39/50\n",
            "1020/1020 [==============================] - 42s 41ms/step - loss: 0.7632 - acc: 0.7922 - val_loss: 1.5168 - val_acc: 0.5118\n",
            "Epoch 40/50\n",
            "1020/1020 [==============================] - 42s 41ms/step - loss: 0.6365 - acc: 0.8186 - val_loss: 1.7267 - val_acc: 0.5147\n",
            "Epoch 41/50\n",
            "1020/1020 [==============================] - 42s 41ms/step - loss: 0.7316 - acc: 0.8137 - val_loss: 1.5483 - val_acc: 0.5324\n",
            "Epoch 42/50\n",
            "1020/1020 [==============================] - 42s 41ms/step - loss: 0.5730 - acc: 0.8461 - val_loss: 1.6113 - val_acc: 0.5324\n",
            "Epoch 43/50\n",
            "1020/1020 [==============================] - 42s 41ms/step - loss: 0.5494 - acc: 0.8676 - val_loss: 2.2896 - val_acc: 0.4029\n",
            "Epoch 44/50\n",
            "1020/1020 [==============================] - 42s 41ms/step - loss: 0.7696 - acc: 0.7716 - val_loss: 1.4254 - val_acc: 0.5471\n",
            "Epoch 45/50\n",
            "1020/1020 [==============================] - 41s 41ms/step - loss: 0.6972 - acc: 0.8010 - val_loss: 1.6429 - val_acc: 0.5382\n",
            "Epoch 46/50\n",
            "1020/1020 [==============================] - 42s 41ms/step - loss: 0.6254 - acc: 0.8510 - val_loss: 1.6753 - val_acc: 0.5500\n",
            "Epoch 47/50\n",
            "1020/1020 [==============================] - 42s 41ms/step - loss: 0.4656 - acc: 0.9108 - val_loss: 1.5215 - val_acc: 0.5324\n",
            "Epoch 48/50\n",
            "1020/1020 [==============================] - 42s 41ms/step - loss: 0.5204 - acc: 0.8637 - val_loss: 1.7534 - val_acc: 0.5235\n",
            "Epoch 49/50\n",
            "1020/1020 [==============================] - 42s 41ms/step - loss: 0.4869 - acc: 0.8833 - val_loss: 2.1032 - val_acc: 0.4706\n",
            "Epoch 50/50\n",
            "1020/1020 [==============================] - 42s 41ms/step - loss: 0.6396 - acc: 0.8265 - val_loss: 1.7726 - val_acc: 0.5147\n"
          ],
          "name": "stdout"
        }
      ]
    },
    {
      "cell_type": "code",
      "metadata": {
        "id": "i-2az7Y8xYQA",
        "colab_type": "code",
        "outputId": "4ffa7afb-7a1f-4d32-b696-be78adb2a696",
        "colab": {
          "base_uri": "https://localhost:8080/",
          "height": 318
        }
      },
      "source": [
        "# plot the training loss and accuracy\n",
        "plt.style.use(\"ggplot\")\n",
        "plt.figure()\n",
        "plt.plot(np.arange(0, 50), H1.history[\"loss\"], label=\"train_loss\")\n",
        "plt.plot(np.arange(0, 50), H1.history[\"val_loss\"], label=\"val_loss\")\n",
        "plt.plot(np.arange(0, 50), H1.history[\"acc\"], label=\"train_acc\")\n",
        "plt.plot(np.arange(0, 50), H1.history[\"val_acc\"], label=\"val_acc\")\n",
        "plt.title(\"Training Loss and Accuracy\")\n",
        "plt.xlabel(\"Epoch #\")\n",
        "plt.ylabel(\"Loss/Accuracy\")\n",
        "plt.legend()\n",
        "plt.show()"
      ],
      "execution_count": 0,
      "outputs": [
        {
          "output_type": "display_data",
          "data": {
            "image/png": "[encoded data removed]",
            "text/plain": [
              "<Figure size 432x288 with 1 Axes>"
            ]
          },
          "metadata": {
            "tags": []
          }
        }
      ]
    },
    {
      "cell_type": "code",
      "metadata": {
        "id": "MEuH519BxYe6",
        "colab_type": "code",
        "colab": {}
      },
      "source": [
        ""
      ],
      "execution_count": 0,
      "outputs": []
    },
    {
      "cell_type": "code",
      "metadata": {
        "id": "8Cl-FVFnxYh9",
        "colab_type": "code",
        "colab": {}
      },
      "source": [
        ""
      ],
      "execution_count": 0,
      "outputs": []
    },
    {
      "cell_type": "code",
      "metadata": {
        "id": "RVeW1Xl7xYmz",
        "colab_type": "code",
        "colab": {}
      },
      "source": [
        ""
      ],
      "execution_count": 0,
      "outputs": []
    },
    {
      "cell_type": "markdown",
      "metadata": {
        "id": "uthGpK45Jfyz",
        "colab_type": "text"
      },
      "source": [
        "**PART A : 1**\n",
        "\n",
        "**Second variant of CNN : Increasing the density of each CNN layer by adding 2 CNN layers**"
      ]
    },
    {
      "cell_type": "code",
      "metadata": {
        "id": "pUtgnamGxYqC",
        "colab_type": "code",
        "colab": {}
      },
      "source": [
        "def SecondCNNVariant(width, height, depth, classes):\n",
        "  \n",
        "  # initialize the model along with the input shape\n",
        "  model2 = tf.keras.Sequential()\n",
        "  inputShape = (height, width, depth)\n",
        "#   # first set of CONV => RELU => POOL layers\n",
        "#   model2.add(Conv2D(32, (3, 3), padding=\"same\", input_shape=inputShape, activation='relu'))\n",
        "#   model2.add(MaxPooling2D(pool_size=(2, 2), strides=(2, 2)))\n",
        "#   # second set of CONV => RELU => POOL layers\n",
        "#   model2.add(Conv2D(64, (3, 3), padding=\"same\", activation='relu'))\n",
        "#   model2.add(MaxPooling2D(pool_size=(2, 2), strides=(2, 2)))\n",
        "#   # third set of CONV => RELU => POOL layers\n",
        "#   model2.add(Conv2D(96, (3, 3), padding=\"same\", activation='relu'))\n",
        "#   model2.add(MaxPooling2D(pool_size=(2, 2), strides=(2, 2)))\n",
        "#   # first (and only) set of FC => RELU layers\n",
        "#   model2.add(Flatten())\n",
        "#   model2.add(Dense(500, activation='relu'))\n",
        "#   # softmaxclassifier\n",
        "#   model2.add(Dense(classes, activation='softmax'))\n",
        "  \n",
        "  # first CONV => CONV => POOL layer set\n",
        "  model2.add(tf.keras.layers.Conv2D(32, (3, 3), padding=\"same\", input_shape=inputShape, activation='relu'))\n",
        "  model2.add(tf.keras.layers.Conv2D(32, (3, 3), padding=\"same\",activation='relu'))\n",
        "  model2.add(tf.keras.layers.MaxPooling2D(pool_size=(2, 2), strides=(2, 2)))\n",
        "  # second CONV => CONV => POOL layer set\n",
        "  model2.add(tf.keras.layers.Conv2D(64, (3, 3), padding=\"same\",activation='relu'))\n",
        "  model2.add(tf.keras.layers.Conv2D(64, (3, 3), padding=\"same\",activation='relu'))\n",
        "  model2.add(tf.keras.layers.MaxPooling2D(pool_size=(2, 2), strides=(2, 2)))\n",
        "  # first (and only) set of FC => RELU layers\n",
        "  model2.add(tf.keras.layers.Flatten())\n",
        "  model2.add(tf.keras.layers.Dense(512,activation='relu'))\n",
        "  # softmaxclassifier\n",
        "  model2.add(tf.keras.layers.Dense(classes, activation='softmax'))\n",
        "     \n",
        "  return model2"
      ],
      "execution_count": 0,
      "outputs": []
    },
    {
      "cell_type": "code",
      "metadata": {
        "id": "8LymqO1tGEbM",
        "colab_type": "code",
        "outputId": "b1da0e3f-0931-4653-b87f-744ef42e8977",
        "colab": {
          "base_uri": "https://localhost:8080/",
          "height": 2210
        }
      },
      "source": [
        "# initialize the optimizer and model\n",
        "\n",
        "print(\"Compiling model...\")\n",
        "\n",
        "opt = tf.keras.optimizers.SGD(lr=0.01)\n",
        "#opt = SGD(lr = 0.01)\n",
        "model2 = SecondCNNVariant(width=128, height=128, depth=3, classes=17)\n",
        "print (model2.summary())\n",
        "\n",
        "model2.compile(loss=\"sparse_categorical_crossentropy\", optimizer=opt, metrics=[\"accuracy\"])\n",
        "\n",
        "# train the network\n",
        "print(\"Training network...\")\n",
        "H2 = model2.fit(trainX, trainY, validation_data=(testX, testY), batch_size=batch_size, epochs=epochs, verbose=1)"
      ],
      "execution_count": 0,
      "outputs": [
        {
          "output_type": "stream",
          "text": [
            "Compiling model...\n",
            "_________________________________________________________________\n",
            "Layer (type)                 Output Shape              Param #   \n",
            "=================================================================\n",
            "conv2d_11 (Conv2D)           (None, 128, 128, 32)      896       \n",
            "_________________________________________________________________\n",
            "conv2d_12 (Conv2D)           (None, 128, 128, 32)      9248      \n",
            "_________________________________________________________________\n",
            "max_pooling2d_4 (MaxPooling2 (None, 64, 64, 32)        0         \n",
            "_________________________________________________________________\n",
            "conv2d_13 (Conv2D)           (None, 64, 64, 64)        18496     \n",
            "_________________________________________________________________\n",
            "conv2d_14 (Conv2D)           (None, 64, 64, 64)        36928     \n",
            "_________________________________________________________________\n",
            "max_pooling2d_5 (MaxPooling2 (None, 32, 32, 64)        0         \n",
            "_________________________________________________________________\n",
            "flatten_2 (Flatten)          (None, 65536)             0         \n",
            "_________________________________________________________________\n",
            "dense_4 (Dense)              (None, 512)               33554944  \n",
            "_________________________________________________________________\n",
            "dense_5 (Dense)              (None, 17)                8721      \n",
            "=================================================================\n",
            "Total params: 33,629,233\n",
            "Trainable params: 33,629,233\n",
            "Non-trainable params: 0\n",
            "_________________________________________________________________\n",
            "None\n",
            "Training network...\n",
            "Train on 1020 samples, validate on 340 samples\n",
            "Epoch 1/50\n",
            "1020/1020 [==============================] - 114s 111ms/sample - loss: 2.8322 - acc: 0.0755 - val_loss: 2.8098 - val_acc: 0.0912\n",
            "Epoch 2/50\n",
            "1020/1020 [==============================] - 113s 111ms/sample - loss: 2.7993 - acc: 0.1176 - val_loss: 2.7763 - val_acc: 0.1176\n",
            "Epoch 3/50\n",
            "1020/1020 [==============================] - 113s 111ms/sample - loss: 2.7539 - acc: 0.1578 - val_loss: 2.7247 - val_acc: 0.1618\n",
            "Epoch 4/50\n",
            "1020/1020 [==============================] - 114s 111ms/sample - loss: 2.6863 - acc: 0.1520 - val_loss: 2.6259 - val_acc: 0.1676\n",
            "Epoch 5/50\n",
            "1020/1020 [==============================] - 111s 108ms/sample - loss: 2.5652 - acc: 0.2049 - val_loss: 2.5879 - val_acc: 0.1176\n",
            "Epoch 6/50\n",
            "1020/1020 [==============================] - 110s 108ms/sample - loss: 2.4281 - acc: 0.2147 - val_loss: 2.3709 - val_acc: 0.2588\n",
            "Epoch 7/50\n",
            "1020/1020 [==============================] - 110s 108ms/sample - loss: 2.4592 - acc: 0.2255 - val_loss: 2.1830 - val_acc: 0.3118\n",
            "Epoch 8/50\n",
            "1020/1020 [==============================] - 112s 110ms/sample - loss: 2.2648 - acc: 0.2853 - val_loss: 2.1656 - val_acc: 0.2735\n",
            "Epoch 9/50\n",
            "1020/1020 [==============================] - 110s 108ms/sample - loss: 2.0346 - acc: 0.3333 - val_loss: 2.0088 - val_acc: 0.2618\n",
            "Epoch 10/50\n",
            "1020/1020 [==============================] - 110s 108ms/sample - loss: 1.9301 - acc: 0.3696 - val_loss: 2.2656 - val_acc: 0.2324\n",
            "Epoch 11/50\n",
            "1020/1020 [==============================] - 113s 111ms/sample - loss: 2.0992 - acc: 0.3500 - val_loss: 1.9726 - val_acc: 0.3029\n",
            "Epoch 12/50\n",
            "1020/1020 [==============================] - 111s 109ms/sample - loss: 1.7514 - acc: 0.4137 - val_loss: 2.0766 - val_acc: 0.3235\n",
            "Epoch 13/50\n",
            "1020/1020 [==============================] - 111s 109ms/sample - loss: 1.7747 - acc: 0.4118 - val_loss: 2.1145 - val_acc: 0.3029\n",
            "Epoch 14/50\n",
            "1020/1020 [==============================] - 112s 110ms/sample - loss: 1.7725 - acc: 0.4196 - val_loss: 1.9690 - val_acc: 0.3412\n",
            "Epoch 15/50\n",
            "1020/1020 [==============================] - 111s 109ms/sample - loss: 1.6625 - acc: 0.4833 - val_loss: 1.8358 - val_acc: 0.3765\n",
            "Epoch 16/50\n",
            "1020/1020 [==============================] - 111s 109ms/sample - loss: 1.6451 - acc: 0.4422 - val_loss: 1.8652 - val_acc: 0.3206\n",
            "Epoch 17/50\n",
            "1020/1020 [==============================] - 112s 110ms/sample - loss: 1.5266 - acc: 0.5029 - val_loss: 1.8488 - val_acc: 0.4029\n",
            "Epoch 18/50\n",
            "1020/1020 [==============================] - 113s 111ms/sample - loss: 1.5027 - acc: 0.4961 - val_loss: 1.8370 - val_acc: 0.3647\n",
            "Epoch 19/50\n",
            "1020/1020 [==============================] - 114s 112ms/sample - loss: 1.5261 - acc: 0.5392 - val_loss: 1.8286 - val_acc: 0.3882\n",
            "Epoch 20/50\n",
            "1020/1020 [==============================] - 113s 111ms/sample - loss: 1.4326 - acc: 0.5343 - val_loss: 1.9033 - val_acc: 0.3588\n",
            "Epoch 21/50\n",
            "1020/1020 [==============================] - 128s 125ms/sample - loss: 1.3545 - acc: 0.5667 - val_loss: 2.3924 - val_acc: 0.3471\n",
            "Epoch 22/50\n",
            "1020/1020 [==============================] - 218s 214ms/sample - loss: 1.3828 - acc: 0.5794 - val_loss: 1.8283 - val_acc: 0.3794\n",
            "Epoch 23/50\n",
            "1020/1020 [==============================] - 218s 214ms/sample - loss: 1.2904 - acc: 0.6059 - val_loss: 1.8254 - val_acc: 0.3912\n",
            "Epoch 24/50\n",
            "1020/1020 [==============================] - 158s 154ms/sample - loss: 1.4222 - acc: 0.5539 - val_loss: 1.8807 - val_acc: 0.4324\n",
            "Epoch 25/50\n",
            "1020/1020 [==============================] - 136s 133ms/sample - loss: 1.1674 - acc: 0.6451 - val_loss: 2.1069 - val_acc: 0.3353\n",
            "Epoch 26/50\n",
            "1020/1020 [==============================] - 114s 112ms/sample - loss: 1.3943 - acc: 0.5922 - val_loss: 1.9696 - val_acc: 0.3529\n",
            "Epoch 27/50\n",
            "1020/1020 [==============================] - 161s 158ms/sample - loss: 1.1417 - acc: 0.6304 - val_loss: 2.0373 - val_acc: 0.4118\n",
            "Epoch 28/50\n",
            "1020/1020 [==============================] - 218s 214ms/sample - loss: 1.1403 - acc: 0.6657 - val_loss: 1.7073 - val_acc: 0.4206\n",
            "Epoch 29/50\n",
            "1020/1020 [==============================] - 220s 216ms/sample - loss: 1.0673 - acc: 0.6500 - val_loss: 2.0811 - val_acc: 0.4088\n",
            "Epoch 30/50\n",
            "1020/1020 [==============================] - 220s 216ms/sample - loss: 0.9460 - acc: 0.7235 - val_loss: 2.4432 - val_acc: 0.3853\n",
            "Epoch 31/50\n",
            "1020/1020 [==============================] - 220s 215ms/sample - loss: 1.1116 - acc: 0.6843 - val_loss: 2.0225 - val_acc: 0.3735\n",
            "Epoch 32/50\n",
            "1020/1020 [==============================] - 216s 212ms/sample - loss: 0.9548 - acc: 0.7147 - val_loss: 1.9594 - val_acc: 0.4353\n",
            "Epoch 33/50\n",
            "1020/1020 [==============================] - 218s 214ms/sample - loss: 1.2153 - acc: 0.6539 - val_loss: 1.8543 - val_acc: 0.4382\n",
            "Epoch 34/50\n",
            "1020/1020 [==============================] - 217s 212ms/sample - loss: 0.7305 - acc: 0.7912 - val_loss: 1.9326 - val_acc: 0.4088\n",
            "Epoch 35/50\n",
            "1020/1020 [==============================] - 218s 214ms/sample - loss: 0.8135 - acc: 0.7441 - val_loss: 2.0814 - val_acc: 0.3971\n",
            "Epoch 36/50\n",
            "1020/1020 [==============================] - 139s 136ms/sample - loss: 0.8593 - acc: 0.7382 - val_loss: 2.2720 - val_acc: 0.3765\n",
            "Epoch 37/50\n",
            "1020/1020 [==============================] - 140s 137ms/sample - loss: 0.7380 - acc: 0.8010 - val_loss: 2.7914 - val_acc: 0.3441\n",
            "Epoch 38/50\n",
            "1020/1020 [==============================] - 222s 217ms/sample - loss: 0.9179 - acc: 0.7863 - val_loss: 1.8225 - val_acc: 0.4559\n",
            "Epoch 39/50\n",
            "1020/1020 [==============================] - 221s 217ms/sample - loss: 0.7888 - acc: 0.7853 - val_loss: 2.1382 - val_acc: 0.4059\n",
            "Epoch 40/50\n",
            "1020/1020 [==============================] - 117s 114ms/sample - loss: 0.6671 - acc: 0.8108 - val_loss: 2.2822 - val_acc: 0.3794\n",
            "Epoch 41/50\n",
            "1020/1020 [==============================] - 114s 112ms/sample - loss: 0.8121 - acc: 0.7569 - val_loss: 2.2867 - val_acc: 0.3882\n",
            "Epoch 42/50\n",
            "1020/1020 [==============================] - 114s 111ms/sample - loss: 0.4759 - acc: 0.8814 - val_loss: 2.4593 - val_acc: 0.4353\n",
            "Epoch 43/50\n",
            "1020/1020 [==============================] - 114s 112ms/sample - loss: 0.8013 - acc: 0.7716 - val_loss: 1.9897 - val_acc: 0.4382\n",
            "Epoch 44/50\n",
            "1020/1020 [==============================] - 118s 116ms/sample - loss: 0.3874 - acc: 0.9098 - val_loss: 2.3231 - val_acc: 0.4176\n",
            "Epoch 45/50\n",
            "1020/1020 [==============================] - 112s 110ms/sample - loss: 0.4755 - acc: 0.8471 - val_loss: 2.5496 - val_acc: 0.4294\n",
            "Epoch 46/50\n",
            "1020/1020 [==============================] - 113s 111ms/sample - loss: 0.4223 - acc: 0.9020 - val_loss: 2.2275 - val_acc: 0.4324\n",
            "Epoch 47/50\n",
            "1020/1020 [==============================] - 113s 111ms/sample - loss: 0.4053 - acc: 0.8931 - val_loss: 2.0931 - val_acc: 0.4618\n",
            "Epoch 48/50\n",
            "1020/1020 [==============================] - 112s 110ms/sample - loss: 0.2205 - acc: 0.9490 - val_loss: 2.1639 - val_acc: 0.4676\n",
            "Epoch 49/50\n",
            "1020/1020 [==============================] - 111s 108ms/sample - loss: 0.2180 - acc: 0.9500 - val_loss: 2.3813 - val_acc: 0.4294\n",
            "Epoch 50/50\n",
            " 896/1020 [=========================>....] - ETA: 12s - loss: 0.1203 - acc: 0.9777"
          ],
          "name": "stdout"
        }
      ]
    },
    {
      "cell_type": "code",
      "metadata": {
        "id": "U5iWY5cdKSoP",
        "colab_type": "code",
        "colab": {}
      },
      "source": [
        ""
      ],
      "execution_count": 0,
      "outputs": []
    },
    {
      "cell_type": "code",
      "metadata": {
        "id": "l_V59wwaYXi4",
        "colab_type": "code",
        "colab": {}
      },
      "source": [
        ""
      ],
      "execution_count": 0,
      "outputs": []
    },
    {
      "cell_type": "markdown",
      "metadata": {
        "id": "l5t8hG1emEAD",
        "colab_type": "text"
      },
      "source": [
        "**Performing data augmentation**"
      ]
    },
    {
      "cell_type": "code",
      "metadata": {
        "id": "D1mAKsSNctO8",
        "colab_type": "code",
        "colab": {}
      },
      "source": [
        "le=LabelEncoder()\n",
        "Y=le.fit_transform(trainY)\n",
        "Y=to_categorical(Y,17)\n"
      ],
      "execution_count": 0,
      "outputs": []
    },
    {
      "cell_type": "code",
      "metadata": {
        "id": "-ha1wSCRYrLO",
        "colab_type": "code",
        "colab": {}
      },
      "source": [
        "\n"
      ],
      "execution_count": 0,
      "outputs": []
    },
    {
      "cell_type": "markdown",
      "metadata": {
        "id": "6c6xrljmv_B0",
        "colab_type": "text"
      },
      "source": [
        "**PART A : 2**\n",
        "\n",
        "**We are now going to perform data augmentations and check the impact of it we build in the first part**"
      ]
    },
    {
      "cell_type": "markdown",
      "metadata": {
        "id": "DY2KlwDfmH_Y",
        "colab_type": "text"
      },
      "source": [
        "**CNN baseline model with single CNN layer**\n",
        "\n",
        "**Data Augmentation with the below mentioned configuration**"
      ]
    },
    {
      "cell_type": "markdown",
      "metadata": {
        "id": "iLGk-3O50UFZ",
        "colab_type": "text"
      },
      "source": [
        "**Configuration 1**"
      ]
    },
    {
      "cell_type": "code",
      "metadata": {
        "id": "D4ZiZPZ_Fwsk",
        "colab_type": "code",
        "colab": {}
      },
      "source": [
        "#Construct the image generator for data augmentation\n",
        "\n",
        "datagen1 = ImageDataGenerator(\n",
        "        width_shift_range=0.2,  # randomly shift images horizontally (fraction of total width)\n",
        "        height_shift_range=0.2,  # randomly shift images vertically (fraction of total height)\n",
        "        )\n",
        "\n",
        "datagen1.fit(trainX)\n",
        "datagen1.fit(testX)"
      ],
      "execution_count": 0,
      "outputs": []
    },
    {
      "cell_type": "markdown",
      "metadata": {
        "id": "-r2FHMpX0dJd",
        "colab_type": "text"
      },
      "source": [
        "**Configuration 2**"
      ]
    },
    {
      "cell_type": "code",
      "metadata": {
        "id": "17p1zE2l0cbc",
        "colab_type": "code",
        "colab": {}
      },
      "source": [
        "#Construct the image generator for data augmentation\n",
        "\n",
        "datagen2 = ImageDataGenerator(\n",
        "        rotation_range=30,  # randomly rotate images in the range (degrees, 0 to 180)\n",
        "        zoom_range = 0.2, # Randomly zoom image \n",
        "        horizontal_flip=True,  # randomly flip images\n",
        "        )\n",
        "\n",
        "\n",
        "datagen2.fit(trainX)\n",
        "datagen2.fit(testX)"
      ],
      "execution_count": 0,
      "outputs": []
    },
    {
      "cell_type": "markdown",
      "metadata": {
        "id": "VI-Fw9Di4nBN",
        "colab_type": "text"
      },
      "source": [
        "**Configuration 3**"
      ]
    },
    {
      "cell_type": "code",
      "metadata": {
        "id": "lZAC2S1T5VaK",
        "colab_type": "code",
        "colab": {
          "base_uri": "https://localhost:8080/",
          "height": 232
        },
        "outputId": "e044c101-1275-41f9-8af0-787cd2dc3864"
      },
      "source": [
        "#Construct the image generator for data augmentation\n",
        "\n",
        "datagen4 = ImageDataGenerator(\n",
        "        shear_range = 0.2,\n",
        "        zoom_range = 0.2,\n",
        "        rotation_range = 30,\n",
        "        horizontal_flip = True,\n",
        "        vertical_flip = True\n",
        "        )  \n",
        "\n",
        "\n",
        "datagen4.fit(trainX)\n",
        "datagen4.fit(testX)"
      ],
      "execution_count": 1,
      "outputs": [
        {
          "output_type": "error",
          "ename": "NameError",
          "evalue": "ignored",
          "traceback": [
            "\u001b[0;31m---------------------------------------------------------------------------\u001b[0m",
            "\u001b[0;31mNameError\u001b[0m                                 Traceback (most recent call last)",
            "\u001b[0;32m<ipython-input-1-739a8baf82d6>\u001b[0m in \u001b[0;36m<module>\u001b[0;34m()\u001b[0m\n\u001b[1;32m      1\u001b[0m \u001b[0;34m\u001b[0m\u001b[0m\n\u001b[0;32m----> 2\u001b[0;31m datagen4 = ImageDataGenerator(\n\u001b[0m\u001b[1;32m      3\u001b[0m         \u001b[0mshear_range\u001b[0m \u001b[0;34m=\u001b[0m \u001b[0;36m0.2\u001b[0m\u001b[0;34m,\u001b[0m\u001b[0;34m\u001b[0m\u001b[0;34m\u001b[0m\u001b[0m\n\u001b[1;32m      4\u001b[0m         \u001b[0mzoom_range\u001b[0m \u001b[0;34m=\u001b[0m \u001b[0;36m0.2\u001b[0m\u001b[0;34m,\u001b[0m\u001b[0;34m\u001b[0m\u001b[0;34m\u001b[0m\u001b[0m\n\u001b[1;32m      5\u001b[0m         \u001b[0mrotation_range\u001b[0m \u001b[0;34m=\u001b[0m \u001b[0;36m30\u001b[0m\u001b[0;34m,\u001b[0m\u001b[0;34m\u001b[0m\u001b[0;34m\u001b[0m\u001b[0m\n",
            "\u001b[0;31mNameError\u001b[0m: name 'ImageDataGenerator' is not defined"
          ]
        }
      ]
    },
    {
      "cell_type": "markdown",
      "metadata": {
        "id": "pLD3fZkV6kGn",
        "colab_type": "text"
      },
      "source": [
        "**Configuration 4**"
      ]
    },
    {
      "cell_type": "code",
      "metadata": {
        "id": "4J4x7vis4jbf",
        "colab_type": "code",
        "colab": {
          "base_uri": "https://localhost:8080/",
          "height": 71
        },
        "outputId": "8700878f-519d-4a8a-facf-6e723000eba3"
      },
      "source": [
        "#Construct the image generator for data augmentation\n",
        "\n",
        "datagen3 = ImageDataGenerator(\n",
        "        zca_whitening=True,  # apply ZCA whitening\n",
        "        rotation_range=40,  # randomly rotate images in the range (degrees, 0 to 180)\n",
        "        zoom_range = 0.4, # Randomly zoom image \n",
        "        vertical_flip=True)  # randomly flip images\n",
        "\n",
        "\n",
        "datagen3.fit(trainX)\n",
        "datagen3.fit(testX)"
      ],
      "execution_count": 0,
      "outputs": [
        {
          "output_type": "stream",
          "text": [
            "/usr/local/lib/python3.6/dist-packages/keras_preprocessing/image/image_data_generator.py:334: UserWarning: This ImageDataGenerator specifies `zca_whitening`, which overrides setting of `featurewise_center`.\n",
            "  warnings.warn('This ImageDataGenerator specifies '\n"
          ],
          "name": "stderr"
        }
      ]
    },
    {
      "cell_type": "code",
      "metadata": {
        "colab_type": "code",
        "id": "jODIIRw4YrmG",
        "colab": {}
      },
      "source": [
        "# def fourthCNNVariant(width, height, depth, classes):\n",
        "  \n",
        "#   # initialize the model along with the input shape\n",
        "#   model3 = tf.keras.Sequential()\n",
        "#   inputShape = (height, width, depth)\n",
        "#   # first set of CONV => RELU => POOL layers\n",
        "#   model2.add(Conv2D(32, (3, 3), padding=\"same\", input_shape=inputShape, activation='relu'))\n",
        "#   model2.add(MaxPooling2D(pool_size=(2, 2), strides=(2, 2)))\n",
        "#   # second set of CONV => RELU => POOL layers\n",
        "#   model2.add(Conv2D(64, (3, 3), padding=\"same\", activation='relu'))\n",
        "#   model2.add(MaxPooling2D(pool_size=(2, 2), strides=(2, 2)))\n",
        "#   # third set of CONV => RELU => POOL layers\n",
        "#   model2.add(Conv2D(96, (3, 3), padding=\"same\", activation='relu'))\n",
        "#   model2.add(MaxPooling2D(pool_size=(2, 2), strides=(2, 2)))\n",
        "#   # first (and only) set of FC => RELU layers\n",
        "#   model2.add(Flatten())\n",
        "#   model2.add(Dense(500, activation='relu'))\n",
        "#   # softmaxclassifier\n",
        "#   model2.add(Dense(classes, activation='softmax'))\n",
        "  \n",
        "#   # first CONV => CONV => POOL layer set\n",
        "#   model3.add(tf.keras.layers.Conv2D(32, (3, 3), padding=\"same\", input_shape=inputShape, activation='relu'))\n",
        "#   model3.add(tf.keras.layers.Conv2D(32, (3, 3), padding=\"same\",activation='relu'))\n",
        "#   model3.add(tf.keras.layers.MaxPooling2D(pool_size=(2, 2), strides=(2, 2)))\n",
        "#   # second CONV => CONV => POOL layer set\n",
        "#   model3.add(tf.keras.layers.Conv2D(64, (3, 3), padding=\"same\",activation='relu'))\n",
        "#   model3.add(tf.keras.layers.Conv2D(64, (3, 3), padding=\"same\",activation='relu'))\n",
        "#   model3.add(tf.keras.layers.MaxPooling2D(pool_size=(2, 2), strides=(2, 2)))\n",
        "#   # first (and only) set of FC => RELU layers\n",
        "#   model3.add(tf.keras.layers.Flatten())\n",
        "#   model3.add(tf.keras.layers.Dense(512,activation='relu'))\n",
        "#   # softmaxclassifier\n",
        "#   model3.add(tf.keras.layers.Dense(classes, activation='softmax'))\n",
        "     \n",
        "#   return model3"
      ],
      "execution_count": 0,
      "outputs": []
    },
    {
      "cell_type": "code",
      "metadata": {
        "id": "M-I-nhToY-DC",
        "colab_type": "code",
        "colab": {}
      },
      "source": [
        ""
      ],
      "execution_count": 0,
      "outputs": []
    },
    {
      "cell_type": "code",
      "metadata": {
        "colab_type": "code",
        "id": "oibOw3EgY-cd",
        "outputId": "679e6ec7-cbdc-4558-c7a8-5b2f56374afc",
        "colab": {
          "base_uri": "https://localhost:8080/",
          "height": 3043
        }
      },
      "source": [
        "# initialize the optimizer and model\n",
        "\n",
        "print(\"Compiling model...\")\n",
        "\n",
        "opt = tf.keras.optimizers.SGD(lr=0.01)\n",
        "#opt = SGD(lr = 0.01)\n",
        "model = singleCNN(width=128, height=128, depth=3, classes=17)\n",
        "print (model.summary())\n",
        "\n",
        "model.compile(loss=\"sparse_categorical_crossentropy\", optimizer=opt, metrics=[\"accuracy\"])\n",
        "\n",
        "# train the network\n",
        "print(\"Training network...\")\n",
        "H3 = model.fit_generator(datagen1.flow(trainX,trainY, batch_size=batch_size),\n",
        "                              epochs = epochs, validation_data = datagen.flow(testX,testY, batch_size=batch_size),\n",
        "                              verbose = 1, steps_per_epoch=trainX.shape[0] // batch_size, validation_steps = testX.shape[0] //batch_size)"
      ],
      "execution_count": 15,
      "outputs": [
        {
          "output_type": "stream",
          "text": [
            "Compiling model...\n",
            "_________________________________________________________________\n",
            "Layer (type)                 Output Shape              Param #   \n",
            "=================================================================\n",
            "conv2d_4 (Conv2D)            (None, 128, 128, 32)      896       \n",
            "_________________________________________________________________\n",
            "conv2d_5 (Conv2D)            (None, 128, 128, 32)      9248      \n",
            "_________________________________________________________________\n",
            "max_pooling2d_2 (MaxPooling2 (None, 64, 64, 32)        0         \n",
            "_________________________________________________________________\n",
            "conv2d_6 (Conv2D)            (None, 64, 64, 64)        18496     \n",
            "_________________________________________________________________\n",
            "conv2d_7 (Conv2D)            (None, 64, 64, 64)        36928     \n",
            "_________________________________________________________________\n",
            "max_pooling2d_3 (MaxPooling2 (None, 32, 32, 64)        0         \n",
            "_________________________________________________________________\n",
            "flatten_1 (Flatten)          (None, 65536)             0         \n",
            "_________________________________________________________________\n",
            "dense_2 (Dense)              (None, 512)               33554944  \n",
            "_________________________________________________________________\n",
            "dense_3 (Dense)              (None, 17)                8721      \n",
            "=================================================================\n",
            "Total params: 33,629,233\n",
            "Trainable params: 33,629,233\n",
            "Non-trainable params: 0\n",
            "_________________________________________________________________\n",
            "None\n",
            "Training network...\n",
            "Epoch 1/50\n",
            "340/340 [==============================] - 9s 26ms/sample - loss: 2.8227 - acc: 0.0971\n",
            "8/8 [==============================] - 121s 15s/step - loss: 2.8310 - acc: 0.0716 - val_loss: 2.8233 - val_acc: 0.0971\n",
            "Epoch 2/50\n",
            "340/340 [==============================] - 9s 25ms/sample - loss: 2.8117 - acc: 0.0941\n",
            "8/8 [==============================] - 115s 14s/step - loss: 2.8223 - acc: 0.0765 - val_loss: 2.8125 - val_acc: 0.0941\n",
            "Epoch 3/50\n",
            "340/340 [==============================] - 9s 25ms/sample - loss: 2.7977 - acc: 0.1412\n",
            "8/8 [==============================] - 115s 14s/step - loss: 2.8099 - acc: 0.0833 - val_loss: 2.7982 - val_acc: 0.1412\n",
            "Epoch 4/50\n",
            "340/340 [==============================] - 9s 25ms/sample - loss: 2.7773 - acc: 0.1265\n",
            "8/8 [==============================] - 114s 14s/step - loss: 2.7970 - acc: 0.0971 - val_loss: 2.7786 - val_acc: 0.1265\n",
            "Epoch 5/50\n",
            "340/340 [==============================] - 9s 25ms/sample - loss: 2.7464 - acc: 0.1529\n",
            "8/8 [==============================] - 114s 14s/step - loss: 2.7759 - acc: 0.1127 - val_loss: 2.7483 - val_acc: 0.1529\n",
            "Epoch 6/50\n",
            "340/340 [==============================] - 9s 25ms/sample - loss: 2.6998 - acc: 0.2059\n",
            "8/8 [==============================] - 115s 14s/step - loss: 2.7462 - acc: 0.1343 - val_loss: 2.7024 - val_acc: 0.2059\n",
            "Epoch 7/50\n",
            "340/340 [==============================] - 9s 25ms/sample - loss: 2.6142 - acc: 0.2294\n",
            "8/8 [==============================] - 114s 14s/step - loss: 2.6920 - acc: 0.1549 - val_loss: 2.6170 - val_acc: 0.2294\n",
            "Epoch 8/50\n",
            "340/340 [==============================] - 9s 25ms/sample - loss: 2.4848 - acc: 0.2235\n",
            "8/8 [==============================] - 116s 15s/step - loss: 2.6159 - acc: 0.1735 - val_loss: 2.4865 - val_acc: 0.2235\n",
            "Epoch 9/50\n",
            "340/340 [==============================] - 9s 26ms/sample - loss: 2.5150 - acc: 0.1912\n",
            "8/8 [==============================] - 115s 14s/step - loss: 2.5511 - acc: 0.1824 - val_loss: 2.5154 - val_acc: 0.1912\n",
            "Epoch 10/50\n",
            "340/340 [==============================] - 9s 25ms/sample - loss: 2.2357 - acc: 0.2882\n",
            "8/8 [==============================] - 114s 14s/step - loss: 2.4300 - acc: 0.1882 - val_loss: 2.2394 - val_acc: 0.2882\n",
            "Epoch 11/50\n",
            "340/340 [==============================] - 9s 25ms/sample - loss: 2.2218 - acc: 0.2588\n",
            "8/8 [==============================] - 114s 14s/step - loss: 2.5127 - acc: 0.1804 - val_loss: 2.2243 - val_acc: 0.2588\n",
            "Epoch 12/50\n",
            "340/340 [==============================] - 9s 25ms/sample - loss: 2.1085 - acc: 0.3000\n",
            "8/8 [==============================] - 115s 14s/step - loss: 2.3062 - acc: 0.2216 - val_loss: 2.1095 - val_acc: 0.3000\n",
            "Epoch 13/50\n",
            "340/340 [==============================] - 9s 25ms/sample - loss: 2.0792 - acc: 0.2765\n",
            "8/8 [==============================] - 114s 14s/step - loss: 2.3395 - acc: 0.2098 - val_loss: 2.0812 - val_acc: 0.2765\n",
            "Epoch 14/50\n",
            "340/340 [==============================] - 9s 25ms/sample - loss: 2.0886 - acc: 0.2824\n",
            "8/8 [==============================] - 115s 14s/step - loss: 2.3867 - acc: 0.2029 - val_loss: 2.0883 - val_acc: 0.2824\n",
            "Epoch 15/50\n",
            "340/340 [==============================] - 9s 25ms/sample - loss: 2.0291 - acc: 0.3029\n",
            "8/8 [==============================] - 115s 14s/step - loss: 2.2036 - acc: 0.2431 - val_loss: 2.0302 - val_acc: 0.3029\n",
            "Epoch 16/50\n",
            "340/340 [==============================] - 9s 25ms/sample - loss: 1.9421 - acc: 0.3235\n",
            "8/8 [==============================] - 115s 14s/step - loss: 2.1273 - acc: 0.2627 - val_loss: 1.9430 - val_acc: 0.3235\n",
            "Epoch 17/50\n",
            "340/340 [==============================] - 9s 25ms/sample - loss: 2.0048 - acc: 0.3412\n",
            "8/8 [==============================] - 116s 15s/step - loss: 2.1662 - acc: 0.2667 - val_loss: 2.0069 - val_acc: 0.3412\n",
            "Epoch 18/50\n",
            "340/340 [==============================] - 9s 25ms/sample - loss: 2.0782 - acc: 0.2824\n",
            "8/8 [==============================] - 116s 14s/step - loss: 2.0984 - acc: 0.3000 - val_loss: 2.0948 - val_acc: 0.2824\n",
            "Epoch 19/50\n",
            "340/340 [==============================] - 9s 25ms/sample - loss: 1.8196 - acc: 0.3941\n",
            "8/8 [==============================] - 117s 15s/step - loss: 2.0916 - acc: 0.2824 - val_loss: 1.8232 - val_acc: 0.3941\n",
            "Epoch 20/50\n",
            "340/340 [==============================] - 9s 25ms/sample - loss: 1.9257 - acc: 0.3382\n",
            "8/8 [==============================] - 114s 14s/step - loss: 2.1186 - acc: 0.2706 - val_loss: 1.9279 - val_acc: 0.3382\n",
            "Epoch 21/50\n",
            "340/340 [==============================] - 9s 25ms/sample - loss: 1.8660 - acc: 0.3265\n",
            "8/8 [==============================] - 116s 15s/step - loss: 2.0345 - acc: 0.3078 - val_loss: 1.8754 - val_acc: 0.3265\n",
            "Epoch 22/50\n",
            "340/340 [==============================] - 9s 25ms/sample - loss: 1.8757 - acc: 0.3353\n",
            "8/8 [==============================] - 114s 14s/step - loss: 2.0191 - acc: 0.3049 - val_loss: 1.8834 - val_acc: 0.3353\n",
            "Epoch 23/50\n",
            "340/340 [==============================] - 9s 25ms/sample - loss: 1.8240 - acc: 0.3353\n",
            "8/8 [==============================] - 115s 14s/step - loss: 2.1916 - acc: 0.2765 - val_loss: 1.8310 - val_acc: 0.3353\n",
            "Epoch 24/50\n",
            "340/340 [==============================] - 9s 25ms/sample - loss: 1.7706 - acc: 0.4029\n",
            "8/8 [==============================] - 117s 15s/step - loss: 1.9510 - acc: 0.3549 - val_loss: 1.7763 - val_acc: 0.4029\n",
            "Epoch 25/50\n",
            "340/340 [==============================] - 9s 25ms/sample - loss: 1.7541 - acc: 0.3618\n",
            "8/8 [==============================] - 116s 14s/step - loss: 1.9778 - acc: 0.3137 - val_loss: 1.7583 - val_acc: 0.3618\n",
            "Epoch 26/50\n",
            "340/340 [==============================] - 9s 25ms/sample - loss: 1.7153 - acc: 0.4324\n",
            "8/8 [==============================] - 115s 14s/step - loss: 1.9041 - acc: 0.3461 - val_loss: 1.7205 - val_acc: 0.4324\n",
            "Epoch 27/50\n",
            "340/340 [==============================] - 9s 25ms/sample - loss: 1.7123 - acc: 0.3853\n",
            "8/8 [==============================] - 114s 14s/step - loss: 1.9813 - acc: 0.3235 - val_loss: 1.7236 - val_acc: 0.3853\n",
            "Epoch 28/50\n",
            "340/340 [==============================] - 9s 25ms/sample - loss: 1.7582 - acc: 0.3794\n",
            "8/8 [==============================] - 114s 14s/step - loss: 1.9079 - acc: 0.3333 - val_loss: 1.7662 - val_acc: 0.3794\n",
            "Epoch 29/50\n",
            "340/340 [==============================] - 9s 25ms/sample - loss: 1.6301 - acc: 0.4147\n",
            "8/8 [==============================] - 115s 14s/step - loss: 1.8673 - acc: 0.3559 - val_loss: 1.6405 - val_acc: 0.4147\n",
            "Epoch 30/50\n",
            "340/340 [==============================] - 9s 25ms/sample - loss: 1.6949 - acc: 0.4029\n",
            "8/8 [==============================] - 115s 14s/step - loss: 1.8816 - acc: 0.3510 - val_loss: 1.7048 - val_acc: 0.4029\n",
            "Epoch 31/50\n",
            "340/340 [==============================] - 9s 25ms/sample - loss: 1.9899 - acc: 0.3500\n",
            "8/8 [==============================] - 114s 14s/step - loss: 1.8266 - acc: 0.3775 - val_loss: 1.9926 - val_acc: 0.3500\n",
            "Epoch 32/50\n",
            "340/340 [==============================] - 9s 25ms/sample - loss: 1.5434 - acc: 0.4882\n",
            "8/8 [==============================] - 114s 14s/step - loss: 1.8894 - acc: 0.3480 - val_loss: 1.5529 - val_acc: 0.4882\n",
            "Epoch 33/50\n",
            "340/340 [==============================] - 9s 25ms/sample - loss: 1.6627 - acc: 0.4206\n",
            "8/8 [==============================] - 115s 14s/step - loss: 1.8579 - acc: 0.3480 - val_loss: 1.6676 - val_acc: 0.4206\n",
            "Epoch 34/50\n",
            "340/340 [==============================] - 9s 25ms/sample - loss: 1.4727 - acc: 0.5059\n",
            "8/8 [==============================] - 116s 14s/step - loss: 1.7569 - acc: 0.4069 - val_loss: 1.4753 - val_acc: 0.5059\n",
            "Epoch 35/50\n",
            "340/340 [==============================] - 18s 52ms/sample - loss: 1.6446 - acc: 0.5206\n",
            "8/8 [==============================] - 197s 25s/step - loss: 1.9064 - acc: 0.3775 - val_loss: 1.6352 - val_acc: 0.5206\n",
            "Epoch 36/50\n",
            "340/340 [==============================] - 18s 52ms/sample - loss: 1.5709 - acc: 0.5029\n",
            "8/8 [==============================] - 222s 28s/step - loss: 1.7981 - acc: 0.4206 - val_loss: 1.5699 - val_acc: 0.5029\n",
            "Epoch 37/50\n",
            "340/340 [==============================] - 9s 25ms/sample - loss: 1.5963 - acc: 0.4676\n",
            "8/8 [==============================] - 175s 22s/step - loss: 1.7570 - acc: 0.4176 - val_loss: 1.5939 - val_acc: 0.4676\n",
            "Epoch 38/50\n",
            "340/340 [==============================] - 9s 25ms/sample - loss: 1.6461 - acc: 0.4529\n",
            "8/8 [==============================] - 114s 14s/step - loss: 1.7537 - acc: 0.4049 - val_loss: 1.6438 - val_acc: 0.4529\n",
            "Epoch 39/50\n",
            "340/340 [==============================] - 9s 25ms/sample - loss: 1.5863 - acc: 0.4794\n",
            "8/8 [==============================] - 117s 15s/step - loss: 1.6885 - acc: 0.4402 - val_loss: 1.5928 - val_acc: 0.4794\n",
            "Epoch 40/50\n",
            "340/340 [==============================] - 9s 25ms/sample - loss: 1.4681 - acc: 0.5118\n",
            "8/8 [==============================] - 116s 14s/step - loss: 1.7077 - acc: 0.4373 - val_loss: 1.4694 - val_acc: 0.5118\n",
            "Epoch 41/50\n",
            "340/340 [==============================] - 9s 26ms/sample - loss: 1.3861 - acc: 0.5471\n",
            "8/8 [==============================] - 116s 15s/step - loss: 1.6958 - acc: 0.4137 - val_loss: 1.3946 - val_acc: 0.5471\n",
            "Epoch 42/50\n",
            "340/340 [==============================] - 9s 25ms/sample - loss: 1.3953 - acc: 0.5441\n",
            "8/8 [==============================] - 116s 15s/step - loss: 1.6409 - acc: 0.4529 - val_loss: 1.3975 - val_acc: 0.5441\n",
            "Epoch 43/50\n",
            "340/340 [==============================] - 9s 25ms/sample - loss: 1.4281 - acc: 0.4882\n",
            "8/8 [==============================] - 115s 14s/step - loss: 1.5687 - acc: 0.4598 - val_loss: 1.4242 - val_acc: 0.4882\n",
            "Epoch 44/50\n",
            "340/340 [==============================] - 9s 25ms/sample - loss: 1.5170 - acc: 0.5088\n",
            "8/8 [==============================] - 116s 14s/step - loss: 1.6168 - acc: 0.4422 - val_loss: 1.5265 - val_acc: 0.5088\n",
            "Epoch 45/50\n",
            "340/340 [==============================] - 9s 25ms/sample - loss: 1.4337 - acc: 0.4706\n",
            "8/8 [==============================] - 116s 15s/step - loss: 1.6091 - acc: 0.4618 - val_loss: 1.4445 - val_acc: 0.4706\n",
            "Epoch 46/50\n",
            "340/340 [==============================] - 9s 25ms/sample - loss: 1.6020 - acc: 0.4618\n",
            "8/8 [==============================] - 114s 14s/step - loss: 1.5488 - acc: 0.4706 - val_loss: 1.5993 - val_acc: 0.4618\n",
            "Epoch 47/50\n",
            "340/340 [==============================] - 9s 25ms/sample - loss: 1.3243 - acc: 0.5824\n",
            "8/8 [==============================] - 115s 14s/step - loss: 1.6969 - acc: 0.4343 - val_loss: 1.3275 - val_acc: 0.5824\n",
            "Epoch 48/50\n",
            "340/340 [==============================] - 9s 25ms/sample - loss: 1.4380 - acc: 0.5265\n",
            "8/8 [==============================] - 115s 14s/step - loss: 1.4827 - acc: 0.5059 - val_loss: 1.4322 - val_acc: 0.5265\n",
            "Epoch 49/50\n",
            "340/340 [==============================] - 9s 26ms/sample - loss: 1.4941 - acc: 0.4941\n",
            "8/8 [==============================] - 114s 14s/step - loss: 1.5677 - acc: 0.4569 - val_loss: 1.4900 - val_acc: 0.4941\n",
            "Epoch 50/50\n",
            "340/340 [==============================] - 9s 26ms/sample - loss: 1.2237 - acc: 0.5824\n",
            "8/8 [==============================] - 115s 14s/step - loss: 1.4380 - acc: 0.5196 - val_loss: 1.2250 - val_acc: 0.5824\n"
          ],
          "name": "stdout"
        }
      ]
    },
    {
      "cell_type": "code",
      "metadata": {
        "id": "sBi3jSRxYXvH",
        "colab_type": "code",
        "colab": {}
      },
      "source": [
        ""
      ],
      "execution_count": 0,
      "outputs": []
    },
    {
      "cell_type": "code",
      "metadata": {
        "id": "W1DIElWIJ2VT",
        "colab_type": "code",
        "outputId": "d1d8e722-8364-4a3d-d988-d402e30a2dbf",
        "colab": {
          "base_uri": "https://localhost:8080/",
          "height": 318
        }
      },
      "source": [
        "# plot the training loss and accuracy\n",
        "plt.style.use(\"ggplot\")\n",
        "plt.figure()\n",
        "plt.plot(np.arange(0, 50), H3.history[\"loss\"], label=\"train_loss\")\n",
        "plt.plot(np.arange(0, 50), H3.history[\"val_loss\"], label=\"val_loss\")\n",
        "plt.plot(np.arange(0, 50), H3.history[\"acc\"], label=\"train_acc\")\n",
        "plt.plot(np.arange(0, 50), H3.history[\"val_acc\"], label=\"val_acc\")\n",
        "plt.title(\"Training Loss and Accuracy\")\n",
        "plt.xlabel(\"Epoch #\")\n",
        "plt.ylabel(\"Loss/Accuracy\")\n",
        "plt.legend()\n",
        "plt.show()"
      ],
      "execution_count": 16,
      "outputs": [
        {
          "output_type": "display_data",
          "data": {
            "image/png": "[encoded data removed]",
            "text/plain": [
              "<Figure size 432x288 with 1 Axes>"
            ]
          },
          "metadata": {
            "tags": []
          }
        }
      ]
    },
    {
      "cell_type": "code",
      "metadata": {
        "id": "gheqe5CWZWSl",
        "colab_type": "code",
        "colab": {}
      },
      "source": [
        "# initialize the optimizer and model\n",
        "\n",
        "print(\"Compiling model...\")\n",
        "\n",
        "opt = tf.keras.optimizers.SGD(lr=0.01)\n",
        "#opt = SGD(lr = 0.01)\n",
        "model = singleCNN(width=128, height=128, depth=3, classes=17)\n",
        "print (model.summary())\n",
        "\n",
        "model.compile(loss=\"sparse_categorical_crossentropy\", optimizer=opt, metrics=[\"accuracy\"])\n",
        "\n",
        "# train the network\n",
        "print(\"Training network...\")\n",
        "H4 = model.fit_generator(datagen2.flow(trainX,trainY, batch_size=batch_size),\n",
        "                              epochs = epochs, validation_data = datagen.flow(testX,testY, batch_size=batch_size),\n",
        "                              verbose = 1, steps_per_epoch=trainX.shape[0] // batch_size, validation_steps = testX.shape[0] //batch_size)"
      ],
      "execution_count": 0,
      "outputs": []
    },
    {
      "cell_type": "code",
      "metadata": {
        "id": "3Ox0VIj1bWdy",
        "colab_type": "code",
        "colab": {}
      },
      "source": [
        "# initialize the optimizer and model\n",
        "\n",
        "print(\"Compiling model...\")\n",
        "\n",
        "opt = tf.keras.optimizers.SGD(lr=0.01)\n",
        "#opt = SGD(lr = 0.01)\n",
        "model = singleCNN(width=128, height=128, depth=3, classes=17)\n",
        "print (model.summary())\n",
        "\n",
        "model.compile(loss=\"sparse_categorical_crossentropy\", optimizer=opt, metrics=[\"accuracy\"])\n",
        "\n",
        "# train the network\n",
        "print(\"Training network...\")\n",
        "H5 = model.fit_generator(datagen3.flow(trainX,trainY, batch_size=batch_size),\n",
        "                              epochs = epochs, validation_data = datagen.flow(testX,testY, batch_size=batch_size),\n",
        "                              verbose = 1, steps_per_epoch=trainX.shape[0] // batch_size, validation_steps = testX.shape[0] //batch_size)"
      ],
      "execution_count": 0,
      "outputs": []
    },
    {
      "cell_type": "code",
      "metadata": {
        "id": "O6Maeuwj6XHe",
        "colab_type": "code",
        "colab": {}
      },
      "source": [
        "# initialize the optimizer and model\n",
        "\n",
        "print(\"Compiling model...\")\n",
        "\n",
        "opt = tf.keras.optimizers.SGD(lr=0.01)\n",
        "#opt = SGD(lr = 0.01)\n",
        "model = singleCNN(width=128, height=128, depth=3, classes=17)\n",
        "print (model.summary())\n",
        "\n",
        "model.compile(loss=\"sparse_categorical_crossentropy\", optimizer=opt, metrics=[\"accuracy\"])\n",
        "\n",
        "# train the network\n",
        "print(\"Training network...\")\n",
        "H3 = model.fit_generator(datagen4.flow(trainX,trainY, batch_size=batch_size),\n",
        "                              epochs = epochs, validation_data = datagen.flow(testX,testY, batch_size=batch_size),\n",
        "                              verbose = 1, steps_per_epoch=trainX.shape[0] // batch_size, validation_steps = testX.shape[0] //batch_size)"
      ],
      "execution_count": 0,
      "outputs": []
    },
    {
      "cell_type": "markdown",
      "metadata": {
        "id": "Y0IWpbT7mMA7",
        "colab_type": "text"
      },
      "source": [
        "**Ensemble method**"
      ]
    },
    {
      "cell_type": "code",
      "metadata": {
        "id": "GxweqBswbWb5",
        "colab_type": "code",
        "colab": {}
      },
      "source": [
        "# Predict labels with models\n",
        "labels = []\n",
        "for m in models:\n",
        "    predicts = np.argmax(m.predict(testY), axis=1)\n",
        "    labels.append(predicts)\n",
        "    \n",
        "# Ensemble with voting\n",
        "labels = np.array(labels)\n",
        "labels = np.transpose(labels, (1, 0))\n",
        "labels = scipy.stats.mode(labels, axis=-1)[0]\n",
        "labels = np.squeeze(labels)"
      ],
      "execution_count": 0,
      "outputs": []
    },
    {
      "cell_type": "code",
      "metadata": {
        "id": "ZN4a6quXbWUb",
        "colab_type": "code",
        "colab": {}
      },
      "source": [
        ""
      ],
      "execution_count": 0,
      "outputs": []
    }
  ]
}